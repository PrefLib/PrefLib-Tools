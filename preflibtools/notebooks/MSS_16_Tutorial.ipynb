{
 "cells": [
  {
   "cell_type": "markdown",
   "metadata": {},
   "source": [
    "This is a basic tutorial using Notebook and a few functions of PrefLib.  It is an updated version of the tutorial presented at EXPLORE in 2014 (www.preflib.org/beyond2014)\n",
    "\n",
    "It shows how to use some of the PrefLib tools within Python to generate a variety of test instances and then graph based on the average margin of victory for Borda scoring.  This is meant to demonstrate some of the power of the PrefLib utility library.\n",
    "\n",
    "Note that this was written agains a devlopment version of the (1.5) version of the library.  You must have SciPy installed (or at the very least Numpy and MatplotLib) and they must be in your Python include directory."
   ]
  },
  {
   "cell_type": "code",
   "execution_count": 1,
   "metadata": {
    "collapsed": true
   },
   "outputs": [],
   "source": [
    "import copy\n",
    "import random\n",
    "import sys\n",
    "\n",
    "import numpy as np\n",
    "import matplotlib\n",
    "import matplotlib.pyplot as plt\n",
    "\n",
    "#Standard MatPlot Magic.\n",
    "%matplotlib inline\n",
    "matplotlib.style.use('seaborn-whitegrid')\n",
    "\n",
    "font = {'size'   : 22}\n",
    "\n",
    "matplotlib.rc('font', **font)"
   ]
  },
  {
   "cell_type": "markdown",
   "metadata": {},
   "source": [
    "You must have installed the preflibtools libraries into your python that is being used by notebook (Python3 hopefully).  The easiest way to do this is to go to the directory where you cloned the repository and type in:\n",
    "    * pip3 install -e .\n",
    "\n",
    "This will install the package editable so that you do not need to reinstall it again if we update some of the code.  The way to check that this worked is you should now have a *.egg-info* directory present where setup.py was."
   ]
  },
  {
   "cell_type": "code",
   "execution_count": 4,
   "metadata": {
    "collapsed": false
   },
   "outputs": [
    {
     "name": "stdout",
     "output_type": "stream",
     "text": [
      "Cand. Dict.: {1: 'Candidate 1', 2: 'Candidate 2', 3: 'Candidate 3', 4: 'Candidate 4', 5: 'Candidate 5'}\n",
      "Reference Ranking: [3, 5, 4, 1, 2]\n",
      "\n",
      "\n",
      "   n    |             Candidate             \n",
      "---------------------------------------------------------------------------\n",
      "   1    |            Candidate 1            \n",
      "   2    |            Candidate 2            \n",
      "   3    |            Candidate 3            \n",
      "   4    |            Candidate 4            \n",
      "   5    |            Candidate 5            \n",
      "---------------------------------------------------------------------------\n",
      " Count  |              Profile              \n",
      "   16   |             3,5,4,1,2             \n",
      "   3    |             5,3,4,1,2             \n",
      "   3    |             2,3,1,4,5             \n",
      "   3    |             3,5,4,2,1             \n",
      "   3    |             3,4,5,1,2             \n",
      "   2    |             2,1,3,4,5             \n",
      "   2    |             1,5,2,4,3             \n",
      "   2    |             4,3,5,1,2             \n",
      "   1    |             1,2,3,5,4             \n",
      "   1    |             2,3,1,5,4             \n",
      "   1    |             1,2,3,4,5             \n",
      "   1    |             2,5,1,3,4             \n",
      "   1    |             3,2,4,5,1             \n",
      "   1    |             4,1,3,5,2             \n",
      "   1    |             3,1,4,5,2             \n",
      "   1    |             3,2,5,4,1             \n",
      "   1    |             5,1,3,4,2             \n",
      "   1    |             2,4,3,5,1             \n",
      "   1    |             1,3,4,2,5             \n",
      "   1    |             2,4,5,1,3             \n",
      "   1    |             3,4,1,5,2             \n",
      "   1    |             3,5,2,1,4             \n",
      "   1    |             5,3,4,2,1             \n",
      "   1    |             3,5,1,2,4             \n"
     ]
    }
   ],
   "source": [
    "# Import utilities and generators.\n",
    "from preflibtools import io\n",
    "from preflibtools import generate_profiles\n",
    "\n",
    "#Generate a candidate set\n",
    "candidate_set = generate_profiles.gen_cand_map(5)\n",
    "print(\"Cand. Dict.: \" + str(candidate_set))\n",
    "\n",
    "#Shuffle the Reference ranking for a Mallows Model\n",
    "ref_ranking = copy.copy(list(candidate_set.keys()))\n",
    "random.shuffle(ref_ranking)\n",
    "print(\"Reference Ranking: \" + str(ref_ranking))\n",
    "\n",
    "#Generate a Mallows Mix with 1 model, selected 100% of the time, \n",
    "#phi=0.2, and the one reference ranking above.\n",
    "rmaps, rmapcounts = generate_profiles.gen_mallows(50, candidate_set, [0.5, 0.5], [0.2, 0.7], [ref_ranking, [1, 2, 3, 4, 5]])\n",
    "io.pp_profile_toscreen(candidate_set, rmaps, rmapcounts)"
   ]
  },
  {
   "cell_type": "markdown",
   "metadata": {},
   "source": [
    "### Using the above profile we can create and evaluate a scoring rule for the given profile."
   ]
  },
  {
   "cell_type": "code",
   "execution_count": 5,
   "metadata": {
    "collapsed": false
   },
   "outputs": [
    {
     "name": "stdout",
     "output_type": "stream",
     "text": [
      "Scoring Vector: [4, 3, 2, 1, 0]\n",
      "\n",
      "\n",
      "   n    |             Candidate             |               Score               \n",
      "---------------------------------------------------------------------------\n",
      "   3    |            Candidate 3            |                160                \n",
      "   5    |            Candidate 5            |                113                \n",
      "   4    |            Candidate 4            |                92                 \n",
      "   1    |            Candidate 1            |                75                 \n",
      "   2    |            Candidate 2            |                60                 \n"
     ]
    },
    {
     "data": {
      "text/plain": [
       "0"
      ]
     },
     "execution_count": 5,
     "metadata": {},
     "output_type": "execute_result"
    }
   ],
   "source": [
    "#Create and Evaluate the Borda Rule. \n",
    "m = len(candidate_set)\n",
    "svec = [m - i for i in range(1,len(candidate_set)+1)]\n",
    "print(\"Scoring Vector: \" + str(svec))\n",
    "\n",
    "#Evaluate the above profile using this scoring rule.\n",
    "scores = io.evaluate_scoring_rule(candidate_set, rmaps, rmapcounts, svec)\n",
    "io.pp_result_toscreen(candidate_set, scores)\n",
    "\n",
    "#Evaluate the Margin of victory. "
   ]
  },
  {
   "cell_type": "code",
   "execution_count": 6,
   "metadata": {
    "collapsed": false
   },
   "outputs": [
    {
     "name": "stdout",
     "output_type": "stream",
     "text": [
      "Done\n"
     ]
    }
   ],
   "source": [
    "# A Simple Experiment.\n",
    "\n",
    "min_candidates = 2\n",
    "max_candidates = 10\n",
    "\n",
    "#Number of Voters\n",
    "num_voters = 100\n",
    "\n",
    "#Number of Iterations\n",
    "num_iterations = 100\n",
    "\n",
    "#Generate an instance for each number of candidates.\n",
    "#Plot the average margin of victory of the winner.\n",
    "margins_per_ncands = {}\n",
    "for c_candidates in range(min_candidates, max_candidates+1):\n",
    "    candidate_set = generate_profiles.gen_cand_map(c_candidates)\n",
    "\n",
    "    margins = []\n",
    "    for cinst in range(num_iterations):\n",
    "        ref_ranking = copy.copy(list(candidate_set.keys()))\n",
    "        random.shuffle(ref_ranking)\n",
    "        rmaps, rmapcounts = \\\n",
    "        generate_profiles.gen_mallows(num_voters, candidate_set, [1.0], [0.2], [ref_ranking])\n",
    "\n",
    "        #Create and Evaluate the Borda Rule. \n",
    "        m = c_candidates\n",
    "        svec = [m - i for i in range(1,m+1)]\n",
    "        scores = io.evaluate_scoring_rule(candidate_set, rmaps, rmapcounts, svec)\n",
    "\n",
    "        #Margin of Victory.\n",
    "        totals = sorted(list(scores.values()), reverse=True)\n",
    "        margins.append(totals[0] - totals[1])\n",
    "\n",
    "    margins_per_ncands[c_candidates] = margins\n",
    "print(\"Done\")"
   ]
  },
  {
   "cell_type": "code",
   "execution_count": 7,
   "metadata": {
    "collapsed": false
   },
   "outputs": [
    {
     "name": "stdout",
     "output_type": "stream",
     "text": [
      "{2: [70, 66, 50, 78, 66, 80, 64, 62, 64, 74, 66, 64, 68, 62, 72, 56, 66, 72, 64, 68, 70, 76, 64, 54, 54, 60, 62, 68, 80, 78, 64, 62, 60, 72, 78, 68, 80, 82, 70, 64, 62, 78, 68, 76, 50, 68, 80, 60, 64, 66, 70, 76, 78, 56, 70, 60, 60, 66, 68, 66, 62, 66, 62, 78, 84, 74, 66, 62, 70, 76, 74, 72, 70, 54, 68, 60, 62, 56, 64, 56, 68, 70, 56, 70, 68, 84, 72, 72, 80, 66, 68, 72, 70, 74, 58, 78, 74, 56, 76, 66], 3: [77, 83, 98, 86, 83, 76, 79, 86, 77, 87, 80, 71, 83, 85, 77, 72, 93, 67, 66, 82, 90, 67, 83, 75, 69, 79, 77, 75, 66, 72, 64, 80, 75, 88, 77, 76, 87, 50, 82, 73, 73, 56, 70, 78, 76, 75, 72, 72, 75, 70, 69, 77, 60, 77, 78, 79, 65, 81, 48, 84, 68, 73, 75, 90, 77, 82, 88, 76, 71, 59, 86, 65, 73, 63, 88, 81, 77, 63, 75, 77, 83, 70, 75, 68, 74, 73, 61, 87, 88, 77, 86, 82, 72, 90, 45, 68, 86, 71, 72, 78], 4: [90, 92, 76, 69, 107, 77, 79, 45, 81, 73, 84, 88, 83, 75, 59, 72, 63, 88, 97, 71, 80, 91, 82, 81, 92, 85, 72, 71, 74, 78, 85, 88, 68, 79, 88, 73, 67, 88, 75, 71, 89, 68, 75, 97, 82, 81, 99, 60, 100, 84, 91, 87, 94, 91, 70, 87, 91, 71, 73, 80, 64, 72, 93, 88, 71, 65, 87, 73, 94, 86, 98, 73, 95, 70, 85, 91, 68, 80, 59, 84, 97, 88, 84, 92, 79, 74, 83, 81, 82, 100, 57, 81, 77, 79, 80, 95, 80, 96, 79, 93], 5: [77, 82, 78, 90, 70, 89, 77, 101, 66, 80, 80, 78, 86, 98, 89, 90, 98, 74, 91, 90, 76, 84, 73, 83, 73, 87, 92, 76, 98, 81, 94, 74, 66, 89, 84, 75, 80, 81, 81, 90, 88, 83, 77, 87, 68, 99, 78, 88, 83, 76, 89, 99, 86, 75, 74, 70, 83, 92, 89, 78, 74, 86, 63, 83, 96, 88, 77, 99, 94, 91, 82, 53, 80, 93, 71, 85, 82, 92, 90, 89, 90, 67, 79, 82, 95, 65, 99, 94, 76, 83, 88, 97, 58, 86, 65, 79, 86, 92, 86, 77], 6: [75, 102, 93, 88, 76, 90, 84, 76, 84, 87, 75, 83, 84, 81, 80, 69, 79, 74, 90, 80, 84, 97, 89, 73, 92, 94, 79, 79, 93, 90, 68, 90, 75, 98, 75, 65, 92, 91, 92, 91, 91, 91, 77, 78, 77, 86, 89, 70, 62, 74, 64, 75, 84, 82, 91, 96, 80, 102, 86, 73, 79, 88, 90, 88, 74, 87, 101, 74, 83, 87, 73, 90, 113, 66, 79, 86, 84, 83, 111, 85, 110, 80, 88, 82, 78, 97, 86, 83, 75, 97, 68, 90, 82, 92, 64, 79, 90, 82, 68, 82], 7: [85, 90, 85, 89, 85, 83, 79, 67, 96, 74, 90, 96, 93, 67, 85, 87, 70, 68, 94, 89, 78, 91, 76, 82, 88, 93, 70, 97, 80, 105, 92, 88, 75, 88, 87, 93, 89, 74, 88, 76, 68, 69, 69, 87, 79, 96, 86, 71, 75, 54, 75, 64, 105, 75, 51, 80, 118, 82, 88, 96, 93, 88, 97, 86, 87, 96, 65, 62, 98, 72, 89, 57, 83, 94, 82, 66, 89, 64, 70, 58, 82, 88, 81, 85, 90, 61, 89, 85, 90, 86, 94, 72, 81, 94, 96, 89, 79, 81, 86, 78], 8: [88, 78, 76, 89, 84, 88, 97, 85, 85, 68, 82, 89, 89, 93, 84, 82, 79, 98, 69, 76, 99, 94, 87, 85, 79, 89, 81, 70, 87, 91, 86, 80, 68, 88, 93, 86, 84, 86, 71, 78, 97, 70, 85, 70, 105, 74, 80, 77, 74, 81, 107, 93, 91, 67, 74, 99, 74, 96, 57, 79, 95, 91, 70, 94, 89, 90, 69, 64, 106, 81, 79, 77, 78, 73, 78, 96, 76, 83, 82, 79, 79, 73, 83, 77, 71, 86, 68, 93, 88, 70, 94, 74, 95, 75, 99, 77, 76, 87, 75, 85], 9: [83, 72, 73, 82, 75, 78, 64, 84, 103, 89, 87, 102, 72, 62, 85, 100, 83, 94, 89, 79, 64, 90, 78, 47, 81, 88, 84, 69, 80, 73, 77, 87, 80, 63, 84, 90, 99, 76, 77, 96, 91, 73, 81, 69, 82, 102, 120, 92, 93, 104, 77, 89, 91, 73, 93, 72, 95, 79, 73, 84, 87, 71, 79, 84, 95, 84, 69, 110, 66, 98, 95, 80, 89, 73, 107, 92, 81, 77, 59, 78, 81, 75, 58, 83, 76, 79, 69, 88, 91, 82, 87, 77, 73, 61, 94, 83, 98, 90, 50, 83], 10: [94, 87, 83, 65, 65, 87, 101, 82, 100, 69, 61, 82, 71, 87, 89, 100, 81, 68, 87, 79, 96, 70, 99, 65, 68, 76, 49, 77, 74, 82, 73, 97, 71, 70, 85, 86, 84, 100, 89, 68, 76, 92, 88, 71, 88, 73, 100, 81, 98, 79, 97, 68, 86, 91, 63, 73, 77, 97, 94, 86, 84, 81, 96, 76, 90, 74, 86, 94, 72, 90, 77, 92, 71, 85, 92, 82, 88, 86, 108, 89, 77, 77, 69, 82, 75, 99, 89, 89, 79, 80, 80, 57, 63, 91, 85, 86, 70, 74, 112, 83]}\n"
     ]
    }
   ],
   "source": [
    "#Print out the data.\n",
    "print(margins_per_ncands)"
   ]
  },
  {
   "cell_type": "code",
   "execution_count": 8,
   "metadata": {
    "collapsed": false
   },
   "outputs": [
    {
     "name": "stdout",
     "output_type": "stream",
     "text": [
      "   2   3    4   5    6   7   8   9   10\n",
      "0  70  77   90  77   75  85  88  83  94\n",
      "1  66  83   92  82  102  90  78  72  87\n",
      "2  50  98   76  78   93  85  76  73  83\n",
      "3  78  86   69  90   88  89  89  82  65\n",
      "4  66  83  107  70   76  85  84  75  65\n"
     ]
    }
   ],
   "source": [
    "# Import Pandas and make a dataframe.\n",
    "import pandas as pd\n",
    "df = pd.DataFrame(margins_per_ncands)\n",
    "print(df[:5])"
   ]
  },
  {
   "cell_type": "code",
   "execution_count": 9,
   "metadata": {
    "collapsed": false
   },
   "outputs": [
    {
     "name": "stdout",
     "output_type": "stream",
     "text": [
      "2     67.74\n",
      "3     75.61\n",
      "4     81.00\n",
      "5     82.95\n",
      "6     83.79\n",
      "7     82.53\n",
      "8     82.86\n",
      "9     82.24\n",
      "10    82.25\n",
      "dtype: float64\n",
      "2     50\n",
      "3     45\n",
      "4     45\n",
      "5     53\n",
      "6     62\n",
      "7     51\n",
      "8     57\n",
      "9     47\n",
      "10    49\n",
      "dtype: int64\n",
      "2      84\n",
      "3      98\n",
      "4     107\n",
      "5     101\n",
      "6     113\n",
      "7     118\n",
      "8     107\n",
      "9     120\n",
      "10    112\n",
      "dtype: int64\n",
      "2      7.699692\n",
      "3      9.403304\n",
      "4     11.101006\n",
      "5      9.782870\n",
      "6     10.143710\n",
      "7     11.848756\n",
      "8      9.941262\n",
      "9     12.508680\n",
      "10    11.622318\n",
      "dtype: float64\n"
     ]
    }
   ],
   "source": [
    "# Print some measures of central tendency.\n",
    "print(df.mean())\n",
    "print(df.min())\n",
    "print(df.max())\n",
    "print(df.std())"
   ]
  },
  {
   "cell_type": "code",
   "execution_count": 10,
   "metadata": {
    "collapsed": false
   },
   "outputs": [
    {
     "data": {
      "text/plain": [
       "<matplotlib.axes._subplots.AxesSubplot at 0x108487a20>"
      ]
     },
     "execution_count": 10,
     "metadata": {},
     "output_type": "execute_result"
    },
    {
     "data": {
      "image/png": "[encoded data removed]",
      "text/plain": [
       "<matplotlib.figure.Figure at 0x1084876a0>"
      ]
     },
     "metadata": {},
     "output_type": "display_data"
    }
   ],
   "source": [
    "#df.plot()\n",
    "df[2].plot()"
   ]
  },
  {
   "cell_type": "code",
   "execution_count": 12,
   "metadata": {
    "collapsed": false
   },
   "outputs": [
    {
     "data": {
      "text/plain": [
       "<matplotlib.axes._subplots.AxesSubplot at 0x10d235780>"
      ]
     },
     "execution_count": 12,
     "metadata": {},
     "output_type": "execute_result"
    },
    {
     "data": {
      "image/png": "[encoded data removed]",
      "text/plain": [
       "<matplotlib.figure.Figure at 0x10d2be1d0>"
      ]
     },
     "metadata": {},
     "output_type": "display_data"
    }
   ],
   "source": [
    "df[5].plot(kind='hist', alpha=0.5, bins=10)\n",
    "df[10].plot(kind='hist', alpha=0.5, bins=10)"
   ]
  },
  {
   "cell_type": "code",
   "execution_count": 13,
   "metadata": {
    "collapsed": false
   },
   "outputs": [
    {
     "data": {
      "text/plain": [
       "<matplotlib.axes._subplots.AxesSubplot at 0x10d42ea20>"
      ]
     },
     "execution_count": 13,
     "metadata": {},
     "output_type": "execute_result"
    },
    {
     "data": {
      "image/png": "[encoded data removed]",
      "text/plain": [
       "<matplotlib.figure.Figure at 0x10d31f198>"
      ]
     },
     "metadata": {},
     "output_type": "display_data"
    }
   ],
   "source": [
    "df.plot(kind='box')"
   ]
  },
  {
   "cell_type": "code",
   "execution_count": 15,
   "metadata": {
    "collapsed": false
   },
   "outputs": [
    {
     "data": {
      "text/plain": [
       "<matplotlib.axes._subplots.AxesSubplot at 0x10d48c320>"
      ]
     },
     "execution_count": 15,
     "metadata": {},
     "output_type": "execute_result"
    },
    {
     "data": {
      "image/png": "[encoded data removed]",
      "text/plain": [
       "<matplotlib.figure.Figure at 0x10d6fd7b8>"
      ]
     },
     "metadata": {},
     "output_type": "display_data"
    }
   ],
   "source": [
    "df.mean().plot(marker=\"*\", xlim=(1.5,10.5), ylim=(60,90))\n",
    "df.median().plot(marker=\"*\", xlim=(1.5,10.5), ylim=(60,90))"
   ]
  },
  {
   "cell_type": "code",
   "execution_count": 16,
   "metadata": {
    "collapsed": false
   },
   "outputs": [
    {
     "name": "stdout",
     "output_type": "stream",
     "text": [
      "\n",
      "\n",
      "   n    |             Candidate             \n",
      "---------------------------------------------------------------------------\n",
      "   1    |             Australia             \n",
      "   2    |              Braille              \n",
      "   3    |           Brush Strokes           \n",
      "   4    |            Exponential            \n",
      "   5    |              College              \n",
      "   6    |          Graph Coloring           \n",
      "   7    |                Red                \n",
      "   8    |              Simple               \n",
      "   9    |             Star Trek             \n",
      "   10   |                TSP                \n",
      "   11   |                VRP                \n",
      "---------------------------------------------------------------------------\n",
      " Count  |              Profile              \n",
      "   1    |      10,6,7,8,11,5,3,2,1,9,4      \n",
      "   1    |      1,10,11,9,6,7,3,5,8,2,4      \n",
      "   1    |      11,10,1,3,6,8,5,7,4,9,2      \n",
      "   1    |      10,3,5,8,11,1,6,2,4,7,9      \n",
      "   1    |      1,6,10,11,3,8,2,4,5,7,9      \n",
      "   1    |      2,5,1,8,6,10,7,4,9,11,3      \n",
      "   1    |      3,10,1,5,8,6,2,11,4,7,9      \n",
      "   1    |      10,2,6,8,11,3,1,7,5,4,9      \n",
      "   1    |      9,10,6,4,8,5,3,2,7,1,11      \n",
      "   1    |      2,3,1,11,6,10,8,5,7,4,9      \n",
      "   1    |      11,1,6,4,10,3,2,5,8,7,9      \n",
      "   1    |      6,3,10,8,11,1,9,2,7,5,4      \n",
      "   1    |      6,1,10,3,7,8,11,5,4,2,9      \n",
      "   1    |      9,1,8,11,6,10,3,5,7,2,4      \n",
      "   1    |      10,3,9,1,6,11,2,8,7,5,4      \n",
      "   1    |      1,6,11,10,8,3,7,2,9,5,4      \n",
      "   1    |      1,10,5,6,2,9,4,11,7,3,8      \n",
      "   1    |      2,10,6,3,4,11,7,5,1,8,9      \n",
      "   1    |      3,10,11,1,6,8,2,9,7,5,4      \n",
      "   1    |      6,11,10,1,4,7,8,3,2,5,9      \n",
      "   1    |      11,1,6,10,8,7,4,5,9,3,2      \n",
      "   1    |      6,11,8,4,5,10,2,1,3,7,9      \n",
      "   1    |      1,6,11,8,3,9,10,4,7,2,5      \n",
      "   1    |      1,6,10,11,8,3,5,4,9,2,7      \n",
      "   1    |      9,3,8,5,10,7,6,1,2,11,4      \n",
      "   1    |      10,1,8,6,11,3,4,7,5,2,9      \n",
      "   1    |      2,7,8,6,10,11,9,1,5,3,4      \n",
      "   1    |      10,9,11,1,6,8,3,2,7,5,4      \n",
      "   1    |      9,3,5,8,2,10,6,7,1,11,4      \n",
      "   1    |      1,6,3,10,2,11,8,4,7,5,9      \n"
     ]
    }
   ],
   "source": [
    "# Try opening a file from the web..\n",
    "#import urllib\n",
    "#import urllib.request\n",
    "#f = urllib.request.urlopen('http://www.preflib.org/data/election/shirt/ED-00012-00000001.soc')\n",
    "\n",
    "f = open(\"/Users/Nick/Desktop/packs/soc/ED-00012-00000001.soc\", \"r\")\n",
    "c, r, counts, nvoters = io.read_election_file(f)\n",
    "io.pp_profile_toscreen(c, r, counts)\n"
   ]
  },
  {
   "cell_type": "code",
   "execution_count": 17,
   "metadata": {
    "collapsed": false
   },
   "outputs": [
    {
     "name": "stdout",
     "output_type": "stream",
     "text": [
      "Scoring Vector: [10, 9, 8, 7, 6, 5, 4, 3, 2, 1, 0]\n",
      "\n",
      "\n",
      "   n    |             Candidate             |               Score               \n",
      "---------------------------------------------------------------------------\n",
      "   10   |                TSP                |                231                \n",
      "   6    |          Graph Coloring           |                220                \n",
      "   1    |             Australia             |                205                \n",
      "   11   |                VRP                |                179                \n",
      "   3    |           Brush Strokes           |                168                \n",
      "   8    |              Simple               |                164                \n",
      "   2    |              Braille              |                119                \n",
      "   5    |              College              |                107                \n",
      "   9    |             Star Trek             |                95                 \n",
      "   7    |                Red                |                92                 \n",
      "   4    |            Exponential            |                70                 \n"
     ]
    },
    {
     "data": {
      "text/plain": [
       "0"
      ]
     },
     "execution_count": 17,
     "metadata": {},
     "output_type": "execute_result"
    }
   ],
   "source": [
    "#Create and Evaluate the Borda Rule. \n",
    "m = len(c)\n",
    "svec = [m - i for i in range(1,len(c)+1)]\n",
    "print(\"Scoring Vector: \" + str(svec))\n",
    "\n",
    "#Evaluate the above profile using this scoring rule.\n",
    "scores = io.evaluate_scoring_rule(c, r, counts, svec)\n",
    "io.pp_result_toscreen(c, scores)"
   ]
  },
  {
   "cell_type": "code",
   "execution_count": 18,
   "metadata": {
    "collapsed": false
   },
   "outputs": [
    {
     "name": "stdout",
     "output_type": "stream",
     "text": [
      "Scoring Vector: [1, 0, 0, 0, 0, 0, 0, 0, 0, 0, 0]\n",
      "\n",
      "\n",
      "   n    |             Candidate             |               Score               \n",
      "---------------------------------------------------------------------------\n",
      "   1    |             Australia             |                 7                 \n",
      "   10   |                TSP                |                 6                 \n",
      "   2    |              Braille              |                 4                 \n",
      "   6    |          Graph Coloring           |                 4                 \n",
      "   9    |             Star Trek             |                 4                 \n",
      "   11   |                VRP                |                 3                 \n",
      "   3    |           Brush Strokes           |                 2                 \n",
      "   4    |            Exponential            |                 0                 \n",
      "   5    |              College              |                 0                 \n",
      "   7    |                Red                |                 0                 \n",
      "   8    |              Simple               |                 0                 \n"
     ]
    },
    {
     "data": {
      "text/plain": [
       "0"
      ]
     },
     "execution_count": 18,
     "metadata": {},
     "output_type": "execute_result"
    }
   ],
   "source": [
    "# 2 Approval?\n",
    "vec = [0] * len(c)\n",
    "vec[0] = 1\n",
    "#vec[1] = 1\n",
    "\n",
    "#Evaluate the above profile using this scoring rule.\n",
    "print(\"Scoring Vector: \" + str(vec))\n",
    "scores = io.evaluate_scoring_rule(c, r, counts, vec)\n",
    "io.pp_result_toscreen(c, scores)"
   ]
  },
  {
   "cell_type": "code",
   "execution_count": null,
   "metadata": {
    "collapsed": true
   },
   "outputs": [],
   "source": []
  }
 ],
 "metadata": {
  "kernelspec": {
   "display_name": "Python 3",
   "language": "python",
   "name": "python3"
  },
  "language_info": {
   "codemirror_mode": {
    "name": "ipython",
    "version": 3
   },
   "file_extension": ".py",
   "mimetype": "text/x-python",
   "name": "python",
   "nbconvert_exporter": "python",
   "pygments_lexer": "ipython3",
   "version": "3.5.1"
  }
 },
 "nbformat": 4,
 "nbformat_minor": 0
}
